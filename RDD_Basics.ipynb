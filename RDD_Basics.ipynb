{
  "nbformat": 4,
  "nbformat_minor": 0,
  "metadata": {
    "colab": {
      "provenance": [],
      "history_visible": true,
      "authorship_tag": "ABX9TyOtTHl4pp8A3Tv9lIXK2wWL",
      "include_colab_link": true
    },
    "kernelspec": {
      "name": "python3",
      "display_name": "Python 3"
    },
    "language_info": {
      "name": "python"
    }
  },
  "cells": [
    {
      "cell_type": "markdown",
      "metadata": {
        "id": "view-in-github",
        "colab_type": "text"
      },
      "source": [
        "<a href=\"https://colab.research.google.com/github/sujayshandilaya/Projects/blob/main/RDD_Basics.ipynb\" target=\"_parent\"><img src=\"https://colab.research.google.com/assets/colab-badge.svg\" alt=\"Open In Colab\"/></a>"
      ]
    },
    {
      "cell_type": "code",
      "execution_count": 1,
      "metadata": {
        "colab": {
          "base_uri": "https://localhost:8080/"
        },
        "id": "tr7dLt0rHMzD",
        "outputId": "571065f7-43b4-4530-fa7c-f5b1f613eabf"
      },
      "outputs": [
        {
          "output_type": "stream",
          "name": "stdout",
          "text": [
            "Looking in indexes: https://pypi.org/simple, https://us-python.pkg.dev/colab-wheels/public/simple/\n",
            "Requirement already satisfied: pyspark in /usr/local/lib/python3.8/dist-packages (3.3.1)\n",
            "Requirement already satisfied: py4j==0.10.9.5 in /usr/local/lib/python3.8/dist-packages (from pyspark) (0.10.9.5)\n"
          ]
        }
      ],
      "source": [
        "!pip3 install pyspark\n"
      ]
    },
    {
      "cell_type": "code",
      "source": [
        "from pyspark.conf import SparkConf\n",
        "from pyspark import SparkContext, SparkConf"
      ],
      "metadata": {
        "id": "jt53JA4_MFz5"
      },
      "execution_count": 2,
      "outputs": []
    },
    {
      "cell_type": "code",
      "source": [
        "#initialing spark\n",
        "conf=SparkConf().setAppName(\"RDD_Practice\").setMaster(\"local[*]\")\n",
        "sc=SparkContext(conf=conf)"
      ],
      "metadata": {
        "id": "Pmuo72pZMRmk"
      },
      "execution_count": 3,
      "outputs": []
    },
    {
      "cell_type": "code",
      "source": [
        "print(sc)"
      ],
      "metadata": {
        "colab": {
          "base_uri": "https://localhost:8080/"
        },
        "id": "JQJlBuUOMjH_",
        "outputId": "86168b3f-858e-4b6d-a0ae-96f002363ffb"
      },
      "execution_count": 4,
      "outputs": [
        {
          "output_type": "stream",
          "name": "stdout",
          "text": [
            "<SparkContext master=local[*] appName=RDD_Practice>\n"
          ]
        }
      ]
    },
    {
      "cell_type": "code",
      "source": [
        "sc.defaultParallelism"
      ],
      "metadata": {
        "colab": {
          "base_uri": "https://localhost:8080/"
        },
        "id": "K_NzSapRMi_f",
        "outputId": "37a0d8e1-b9dc-4cd1-feaf-cf298f2d8447"
      },
      "execution_count": 5,
      "outputs": [
        {
          "output_type": "execute_result",
          "data": {
            "text/plain": [
              "2"
            ]
          },
          "metadata": {},
          "execution_count": 5
        }
      ]
    },
    {
      "cell_type": "code",
      "source": [
        "import random\n",
        "randomlist=random.sample(range(0,40),10)    "
      ],
      "metadata": {
        "id": "9TXieU9iMi1z"
      },
      "execution_count": 6,
      "outputs": []
    },
    {
      "cell_type": "code",
      "source": [
        "randomlist"
      ],
      "metadata": {
        "colab": {
          "base_uri": "https://localhost:8080/"
        },
        "id": "BYe90nEFMinu",
        "outputId": "4c12b26f-6d90-4c84-d5a1-7a83236363b3"
      },
      "execution_count": 7,
      "outputs": [
        {
          "output_type": "execute_result",
          "data": {
            "text/plain": [
              "[30, 21, 25, 22, 5, 38, 7, 31, 18, 10]"
            ]
          },
          "metadata": {},
          "execution_count": 7
        }
      ]
    },
    {
      "cell_type": "code",
      "source": [
        "rdd1=sc.parallelize(randomlist,4)"
      ],
      "metadata": {
        "id": "c8Hp3DAYTUJM"
      },
      "execution_count": 9,
      "outputs": []
    },
    {
      "cell_type": "code",
      "source": [
        "rdd1.count()"
      ],
      "metadata": {
        "colab": {
          "base_uri": "https://localhost:8080/"
        },
        "id": "jyijH3SZUG9N",
        "outputId": "ebcc86dd-831e-4b3d-8f19-a2da80bd212d"
      },
      "execution_count": 12,
      "outputs": [
        {
          "output_type": "execute_result",
          "data": {
            "text/plain": [
              "10"
            ]
          },
          "metadata": {},
          "execution_count": 12
        }
      ]
    },
    {
      "cell_type": "code",
      "source": [
        "#too see the partitions\n",
        "rdd1.getNumPartitions()\n",
        "rdd1.glom().collect()"
      ],
      "metadata": {
        "colab": {
          "base_uri": "https://localhost:8080/"
        },
        "id": "k9u2e_HkUb69",
        "outputId": "fbb9d027-2d52-4d5c-94ee-ef2260ee80ac"
      },
      "execution_count": 14,
      "outputs": [
        {
          "output_type": "execute_result",
          "data": {
            "text/plain": [
              "[[30, 21], [25, 22], [5, 38], [7, 31, 18, 10]]"
            ]
          },
          "metadata": {},
          "execution_count": 14
        }
      ]
    },
    {
      "cell_type": "code",
      "source": [
        "print(\"first two partitions\", rdd1.glom().take(2))"
      ],
      "metadata": {
        "colab": {
          "base_uri": "https://localhost:8080/"
        },
        "id": "RKHYWRPJUkuC",
        "outputId": "5426d357-a212-408e-af23-50fbb767c18a"
      },
      "execution_count": 16,
      "outputs": [
        {
          "output_type": "stream",
          "name": "stdout",
          "text": [
            "first two partitions [[30, 21], [25, 22]]\n"
          ]
        }
      ]
    },
    {
      "cell_type": "code",
      "source": [
        "#print last partiotns\n",
        "rdd1.glom().collect()[-1]"
      ],
      "metadata": {
        "colab": {
          "base_uri": "https://localhost:8080/"
        },
        "id": "C9qEOgicVJ1l",
        "outputId": "0632d20e-e200-430b-d2ce-f89fbf0576a2"
      },
      "execution_count": 18,
      "outputs": [
        {
          "output_type": "execute_result",
          "data": {
            "text/plain": [
              "[7, 31, 18, 10]"
            ]
          },
          "metadata": {},
          "execution_count": 18
        }
      ]
    },
    {
      "cell_type": "code",
      "source": [
        "#map\n",
        "\n",
        "rdd_map=rdd1.map(lambda x: (x+1)*3)"
      ],
      "metadata": {
        "id": "xqeWpuKzVU-G"
      },
      "execution_count": 20,
      "outputs": []
    },
    {
      "cell_type": "code",
      "source": [
        "rdd_map.collect()"
      ],
      "metadata": {
        "colab": {
          "base_uri": "https://localhost:8080/"
        },
        "id": "KxQ-45sXWjIs",
        "outputId": "c41d152f-4053-4e21-a85e-b99eef5300d5"
      },
      "execution_count": 21,
      "outputs": [
        {
          "output_type": "execute_result",
          "data": {
            "text/plain": [
              "[93, 66, 78, 69, 18, 117, 24, 96, 57, 33]"
            ]
          },
          "metadata": {},
          "execution_count": 21
        }
      ]
    },
    {
      "cell_type": "code",
      "source": [
        "rdd_map.glom().collect()"
      ],
      "metadata": {
        "colab": {
          "base_uri": "https://localhost:8080/"
        },
        "id": "ujs2l--pWjF1",
        "outputId": "21241cfe-4b1d-4954-cef0-e7156f5bd451"
      },
      "execution_count": 22,
      "outputs": [
        {
          "output_type": "execute_result",
          "data": {
            "text/plain": [
              "[[93, 66], [78, 69], [18, 117], [24, 96, 57, 33]]"
            ]
          },
          "metadata": {},
          "execution_count": 22
        }
      ]
    },
    {
      "cell_type": "code",
      "source": [
        "rdd1.glom().collect()"
      ],
      "metadata": {
        "colab": {
          "base_uri": "https://localhost:8080/"
        },
        "id": "sHLCayMzWjC1",
        "outputId": "a4b29f96-6b51-44cf-e81d-12d91b16ed44"
      },
      "execution_count": 23,
      "outputs": [
        {
          "output_type": "execute_result",
          "data": {
            "text/plain": [
              "[[30, 21], [25, 22], [5, 38], [7, 31, 18, 10]]"
            ]
          },
          "metadata": {},
          "execution_count": 23
        }
      ]
    },
    {
      "cell_type": "code",
      "source": [
        "#filter\n",
        "rdd_filter=rdd1.filter(lambda x:x%3==0)\n",
        "rdd_filter.collect()"
      ],
      "metadata": {
        "colab": {
          "base_uri": "https://localhost:8080/"
        },
        "id": "DNyIXLYSWjAW",
        "outputId": "24804293-be4b-4be2-a873-ebcfc1aff092"
      },
      "execution_count": 25,
      "outputs": [
        {
          "output_type": "execute_result",
          "data": {
            "text/plain": [
              "[30, 21, 18]"
            ]
          },
          "metadata": {},
          "execution_count": 25
        }
      ]
    },
    {
      "cell_type": "code",
      "source": [
        "rdd_filter.glom().count()"
      ],
      "metadata": {
        "colab": {
          "base_uri": "https://localhost:8080/"
        },
        "id": "38avKttpWi89",
        "outputId": "920f854d-a58d-4c57-dabc-a732a52ffb03"
      },
      "execution_count": 31,
      "outputs": [
        {
          "output_type": "execute_result",
          "data": {
            "text/plain": [
              "4"
            ]
          },
          "metadata": {},
          "execution_count": 31
        }
      ]
    },
    {
      "cell_type": "code",
      "source": [
        "rdd_filter.repartition(1)"
      ],
      "metadata": {
        "id": "75gxEVyzWi2z"
      },
      "execution_count": null,
      "outputs": []
    },
    {
      "cell_type": "code",
      "source": [
        "rdd_filter.glom().collect()"
      ],
      "metadata": {
        "colab": {
          "base_uri": "https://localhost:8080/"
        },
        "id": "xbTlw5emX4YQ",
        "outputId": "bd5c864a-d4bd-4c97-bd63-10e83ce51aee"
      },
      "execution_count": 36,
      "outputs": [
        {
          "output_type": "execute_result",
          "data": {
            "text/plain": [
              "[[30, 21], [], [], [18]]"
            ]
          },
          "metadata": {},
          "execution_count": 36
        }
      ]
    },
    {
      "cell_type": "code",
      "source": [
        "#flatmap\n",
        "\n",
        "rdd_flatmap=rdd1.flatMap(lambda x: [x+2,x+5])\n"
      ],
      "metadata": {
        "id": "2Xj0smfVY2tr"
      },
      "execution_count": 37,
      "outputs": []
    },
    {
      "cell_type": "code",
      "source": [
        "rdd_flatmap.glom().collect()"
      ],
      "metadata": {
        "colab": {
          "base_uri": "https://localhost:8080/"
        },
        "id": "GTGKOYHmZJS9",
        "outputId": "09b5daa8-3b72-4394-c4f5-99fa2eb6bb6d"
      },
      "execution_count": 39,
      "outputs": [
        {
          "output_type": "execute_result",
          "data": {
            "text/plain": [
              "[[32, 35, 23, 26],\n",
              " [27, 30, 24, 27],\n",
              " [7, 10, 40, 43],\n",
              " [9, 12, 33, 36, 20, 23, 12, 15]]"
            ]
          },
          "metadata": {},
          "execution_count": 39
        }
      ]
    },
    {
      "cell_type": "code",
      "source": [
        "#reduce is an action\n",
        "rdd_flatmap.reduce(lambda x,y:x+y)"
      ],
      "metadata": {
        "colab": {
          "base_uri": "https://localhost:8080/"
        },
        "id": "wt2L-2jSY2oZ",
        "outputId": "2495293b-e675-4971-bc7e-8dce26a8997f"
      },
      "execution_count": 44,
      "outputs": [
        {
          "output_type": "execute_result",
          "data": {
            "text/plain": [
              "484"
            ]
          },
          "metadata": {},
          "execution_count": 44
        }
      ]
    },
    {
      "cell_type": "code",
      "source": [
        "#map partition\n",
        "\n",
        "def my_func(partition):\n",
        "  sum=0\n",
        "  for item in partition:\n",
        "    sum+=item\n",
        "  \n",
        "  yield sum\n",
        "\n",
        "rdd_mappartition=rdd1.mapPartitions(my_func)"
      ],
      "metadata": {
        "id": "mAMKSz9zbuZC"
      },
      "execution_count": 45,
      "outputs": []
    },
    {
      "cell_type": "code",
      "source": [
        "rdd_mappartition.glom().collect()"
      ],
      "metadata": {
        "colab": {
          "base_uri": "https://localhost:8080/"
        },
        "id": "i5NdUxl0czx0",
        "outputId": "e6ad8787-0a19-49d1-fd7a-dc9c38c0dddb"
      },
      "execution_count": 47,
      "outputs": [
        {
          "output_type": "execute_result",
          "data": {
            "text/plain": [
              "[[51], [47], [43], [66]]"
            ]
          },
          "metadata": {},
          "execution_count": 47
        }
      ]
    }
  ]
}